{
 "cells": [
  {
   "cell_type": "code",
   "execution_count": null,
   "metadata": {},
   "outputs": [],
   "source": [
    "import os\n",
    "import gspread\n",
    "import time\n",
    "from oauth2client.service_account import ServiceAccountCredentials"
   ]
  },
  {
   "cell_type": "code",
   "execution_count": null,
   "metadata": {},
   "outputs": [],
   "source": [
    "# Set up connection to Google API\n",
    "scope = ['https://spreadsheets.google.com/feeds','https://www.googleapis.com/auth/drive']\n",
    "creds = ServiceAccountCredentials.from_json_keyfile_name('./path/to/secret.json', scope)\n",
    "client = gspread.authorize(creds)\n",
    "\n",
    "# Open the Google sheet I want\n",
    "sheet = client.open('document_name').sheet1"
   ]
  },
  {
   "cell_type": "code",
   "execution_count": null,
   "metadata": {},
   "outputs": [],
   "source": [
    "## Open list of URLs from CSV file, and save all the data \n",
    "\n",
    "# Get list of all titles in current sheet\n",
    "current_rows = sheet.col_values(4)\n",
    "\n",
    "with open('URLs.csv','r') as csvfile:\n",
    "    linkreader = csv.reader(csvfile, dialect=csv.excel)\n",
    "    for row in linkreader:\n",
    "        URL = ', '.join(row)\n",
    "        r = requests.get(URL)\n",
    "        r.encoding = 'utf-8'\n",
    "        soup = BeautifulSoup(r.text, \"html.parser\")\n",
    "        issue = soup.find(\"h1\").text\n",
    "        date = soup.find(\"time\").text\n",
    "        links = soup.find_all(\"a\",{'style': re.compile('text-decoration: none'),'href': re.compile('www.*')})\n",
    "        for link in links:\n",
    "            title = link.text\n",
    "            title = title.strip()\n",
    "            if title == \"\" or title == \"Tweet\" or title == \"Share\":\n",
    "                # Do nothing :)\n",
    "                pass\n",
    "            else:\n",
    "                issue = issue.replace('Text_you_want_to_remove','')\n",
    "                link = link.get('href')\n",
    "                link = link.strip()\n",
    "                data = [issue, date, title, link]\n",
    "                # Check if this data not already in the sheet. If it is, do nothing :) If not, write it in!\n",
    "                if link in current_rows:\n",
    "                    pass\n",
    "                else:\n",
    "                    sheet.insert_row(data, 2)\n",
    "                    time.sleep(10)"
   ]
  }
 ],
 "metadata": {
  "kernelspec": {
   "display_name": "Python 3",
   "language": "python",
   "name": "python3"
  },
  "language_info": {
   "codemirror_mode": {
    "name": "ipython",
    "version": 3
   },
   "file_extension": ".py",
   "mimetype": "text/x-python",
   "name": "python",
   "nbconvert_exporter": "python",
   "pygments_lexer": "ipython3",
   "version": "3.7.4"
  }
 },
 "nbformat": 4,
 "nbformat_minor": 2
}
