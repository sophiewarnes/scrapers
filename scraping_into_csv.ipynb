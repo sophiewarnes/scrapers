{
 "cells": [
  {
   "cell_type": "code",
   "execution_count": 1,
   "metadata": {},
   "outputs": [],
   "source": [
    "import requests\n",
    "from bs4 import BeautifulSoup\n",
    "import csv\n",
    "import codecs\n",
    "import re"
   ]
  },
  {
   "cell_type": "code",
   "execution_count": 2,
   "metadata": {},
   "outputs": [],
   "source": [
    "# Open local file\n",
    "soup = BeautifulSoup(open(\"local_file_path.htm\"), \"html.parser\")\n",
    "\n",
    "# Open URL\n",
    "r = requests.get(\"url_goes_here\")\n",
    "soup = BeautifulSoup(r.content)"
   ]
  },
  {
   "cell_type": "code",
   "execution_count": 3,
   "metadata": {},
   "outputs": [
    {
     "name": "stdout",
     "output_type": "stream",
     "text": [
      "Executed successfully! 😀\n"
     ]
    }
   ],
   "source": [
    "## Scrape the URL or file, and pull out all the links\n",
    "\n",
    "# Read the file\n",
    "\n",
    "lines = open('./fw-scraper-files/URLs.csv', 'r').read()\n",
    "\n",
    "# Open CSV file we're going to append data to...\n",
    "with open('./fw-scraper-files/URLs.csv','a') as csvfile:\n",
    "    csv_output = csv.writer(csvfile)\n",
    "    \n",
    "    # Find all links where 'Fair Warning' is in the title at the beginning, and extract the href (URL)\n",
    "    links = soup.find_all('a',{'title': re.compile('Fair Warning.*')})\n",
    "    \n",
    "    # For every link found that matches the regex above, add http and domain\n",
    "    for link in links:\n",
    "        urls = link.get('href')\n",
    "        # This bit only needed when scraping live site, as URLs are relative\n",
    "        urls = \"https://www.getrevue.co\" + urls\n",
    "        \n",
    "        if urls in lines:\n",
    "            pass\n",
    "        else:\n",
    "            # If 'tinyletter' string is not in the URL, then write the row. (Ensures it won't fail)\n",
    "            if 'tinyletter' not in urls:\n",
    "                csv_output.writerow([urls])\n",
    "            \n",
    "print(\"Executed successfully! \\U0001F600\")"
   ]
  },
  {
   "cell_type": "code",
   "execution_count": 4,
   "metadata": {},
   "outputs": [
    {
     "name": "stdout",
     "output_type": "stream",
     "text": [
      "This may take a while... 🙃\n",
      "\n",
      "\n",
      "Oh look, it's finished. Hurrah! 😀\n"
     ]
    }
   ],
   "source": [
    "## Put all the data into a CSV file and clean all the nonsense up\n",
    "\n",
    "print(\"This may take a while... \\U0001F643\")\n",
    "\n",
    "lines = open('./fair-warning/data/fw-archive.csv', 'r').read()\n",
    "\n",
    "# Open URLs CSV, write title, link, date etc to URLS.csv\n",
    "with open('./fw-scraper-files/URLs.csv','r') as csvfile, open('./fair-warning/data/fw-archive.csv', 'a', encoding='utf-8') as f_output:\n",
    "    linkreader = csv.reader(csvfile, dialect=csv.excel)\n",
    "    csv_output = csv.writer(f_output)\n",
    "    for row in linkreader:\n",
    "        URL = ', '.join(row)\n",
    "        r = requests.get(URL)\n",
    "        r.encoding = 'utf-8'\n",
    "        soup = BeautifulSoup(r.text, \"html.parser\")\n",
    "        issue = soup.find(\"h1\").text\n",
    "        date = soup.find(\"time\").text\n",
    "        links = soup.find_all(\"a\",{'style': re.compile('text-decoration: none'),'href': re.compile('www.*')})\n",
    "        for link in links:\n",
    "            title = link.text\n",
    "            title = title.strip()\n",
    "            if title == \"\" or title == \"Tweet\" or title == \"Share\":\n",
    "                # Do nothing\n",
    "                pass\n",
    "            else:\n",
    "                issue = issue.replace('Fair Warning - ','')\n",
    "                title = title\n",
    "                link = link.get('href')\n",
    "                link = link.strip()\n",
    "                link = link.replace('?utm_campaign=Fair%20Warning&utm_medium=email&utm_source=Revue%20newsletter','')\n",
    "                data = [issue, date, title, link]\n",
    "                if title in lines:\n",
    "                    pass\n",
    "                else:\n",
    "                    print(\"New data incoming! \\U0001F44D\")\n",
    "                    csv_output.writerow([issue,date,title,link])\n",
    "                \n",
    "print(\"\\n\\nOh look, it's finished. Hurrah! \\U0001F600\")"
   ]
  }
 ],
 "metadata": {
  "kernelspec": {
   "display_name": "Python 3",
   "language": "python",
   "name": "python3"
  },
  "language_info": {
   "codemirror_mode": {
    "name": "ipython",
    "version": 3
   },
   "file_extension": ".py",
   "mimetype": "text/x-python",
   "name": "python",
   "nbconvert_exporter": "python",
   "pygments_lexer": "ipython3",
   "version": "3.7.4"
  }
 },
 "nbformat": 4,
 "nbformat_minor": 2
}
