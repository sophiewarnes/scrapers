{
 "cells": [
  {
   "cell_type": "code",
   "execution_count": null,
   "metadata": {},
   "outputs": [],
   "source": [
    "import os\n",
    "import gspread\n",
    "import time\n",
    "from oauth2client.service_account import ServiceAccountCredentials"
   ]
  },
  {
   "cell_type": "code",
   "execution_count": 1,
   "metadata": {},
   "outputs": [
    {
     "ename": "NameError",
     "evalue": "name 'ServiceAccountCredentials' is not defined",
     "output_type": "error",
     "traceback": [
      "\u001b[0;31m---------------------------------------------------------------------------\u001b[0m",
      "\u001b[0;31mNameError\u001b[0m                                 Traceback (most recent call last)",
      "\u001b[0;32m<ipython-input-1-9b0685131bf7>\u001b[0m in \u001b[0;36m<module>\u001b[0;34m\u001b[0m\n\u001b[1;32m      1\u001b[0m \u001b[0;31m# Set up connection to Google API\u001b[0m\u001b[0;34m\u001b[0m\u001b[0;34m\u001b[0m\u001b[0;34m\u001b[0m\u001b[0m\n\u001b[1;32m      2\u001b[0m \u001b[0mscope\u001b[0m \u001b[0;34m=\u001b[0m \u001b[0;34m[\u001b[0m\u001b[0;34m'https://spreadsheets.google.com/feeds'\u001b[0m\u001b[0;34m,\u001b[0m\u001b[0;34m'https://www.googleapis.com/auth/drive'\u001b[0m\u001b[0;34m]\u001b[0m\u001b[0;34m\u001b[0m\u001b[0;34m\u001b[0m\u001b[0m\n\u001b[0;32m----> 3\u001b[0;31m \u001b[0mcreds\u001b[0m \u001b[0;34m=\u001b[0m \u001b[0mServiceAccountCredentials\u001b[0m\u001b[0;34m.\u001b[0m\u001b[0mfrom_json_keyfile_name\u001b[0m\u001b[0;34m(\u001b[0m\u001b[0;34m'./fw-scraper-files/secret.json'\u001b[0m\u001b[0;34m,\u001b[0m \u001b[0mscope\u001b[0m\u001b[0;34m)\u001b[0m\u001b[0;34m\u001b[0m\u001b[0;34m\u001b[0m\u001b[0m\n\u001b[0m\u001b[1;32m      4\u001b[0m \u001b[0mclient\u001b[0m \u001b[0;34m=\u001b[0m \u001b[0mgspread\u001b[0m\u001b[0;34m.\u001b[0m\u001b[0mauthorize\u001b[0m\u001b[0;34m(\u001b[0m\u001b[0mcreds\u001b[0m\u001b[0;34m)\u001b[0m\u001b[0;34m\u001b[0m\u001b[0;34m\u001b[0m\u001b[0m\n\u001b[1;32m      5\u001b[0m \u001b[0;34m\u001b[0m\u001b[0m\n",
      "\u001b[0;31mNameError\u001b[0m: name 'ServiceAccountCredentials' is not defined"
     ]
    }
   ],
   "source": [
    "# Set up connection to Google API\n",
    "scope = ['https://spreadsheets.google.com/feeds','https://www.googleapis.com/auth/drive']\n",
    "creds = ServiceAccountCredentials.from_json_keyfile_name('./fw-scraper-files/secret.json', scope)\n",
    "client = gspread.authorize(creds)\n",
    "\n",
    "# Open the Google sheet I want\n",
    "sheet = client.open('fair-warning-stats').sheet1"
   ]
  },
  {
   "cell_type": "code",
   "execution_count": null,
   "metadata": {},
   "outputs": [],
   "source": [
    "## Open URLs and save all the data \n",
    "\n",
    "# Get list of all titles in current sheet\n",
    "current_rows = sheet.col_values(4)\n",
    "\n",
    "with open('URLs.csv','r') as csvfile:\n",
    "    linkreader = csv.reader(csvfile, dialect=csv.excel)\n",
    "    for row in linkreader:\n",
    "        URL = ', '.join(row)\n",
    "        r = requests.get(URL)\n",
    "        r.encoding = 'utf-8'\n",
    "        soup = BeautifulSoup(r.text, \"html.parser\")\n",
    "        issue = soup.find(\"h1\").text\n",
    "        date = soup.find(\"time\").text\n",
    "        links = soup.find_all(\"a\",{'style': re.compile('text-decoration: none'),'href': re.compile('www.*')})\n",
    "        for link in links:\n",
    "            title = link.text\n",
    "            title = title.strip()\n",
    "            if title == \"\" or title == \"Tweet\" or title == \"Share\":\n",
    "                # Do nothing :)\n",
    "                pass\n",
    "            else:\n",
    "                issue = issue.replace('Fair Warning - ','')\n",
    "                link = link.get('href')\n",
    "                link = link.strip()\n",
    "                link = link.replace('?utm_campaign=Fair%20Warning&utm_medium=email&utm_source=Revue%20newsletter','')\n",
    "                data = [issue, date, title, link]\n",
    "                # Check if this data not already in the sheet. If it is, do nothing :) If not, write it in!\n",
    "                if link in current_rows:\n",
    "                    pass\n",
    "                else:\n",
    "                    sheet.insert_row(data, 2)\n",
    "                    time.sleep(10)"
   ]
  }
 ],
 "metadata": {
  "kernelspec": {
   "display_name": "Python 3",
   "language": "python",
   "name": "python3"
  },
  "language_info": {
   "codemirror_mode": {
    "name": "ipython",
    "version": 3
   },
   "file_extension": ".py",
   "mimetype": "text/x-python",
   "name": "python",
   "nbconvert_exporter": "python",
   "pygments_lexer": "ipython3",
   "version": "3.7.4"
  }
 },
 "nbformat": 4,
 "nbformat_minor": 2
}
